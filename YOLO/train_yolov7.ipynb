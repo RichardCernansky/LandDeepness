{
 "cells": [
  {
   "cell_type": "markdown",
   "id": "eb6e379293a67bbf",
   "metadata": {},
   "source": [
    "# Training pipeline"
   ]
  },
  {
   "cell_type": "code",
   "execution_count": 1,
   "id": "d8bc142d1758248d",
   "metadata": {},
   "outputs": [
    {
     "name": "stdout",
     "output_type": "stream",
     "text": [
      "MPS is available on your system!\n"
     ]
    }
   ],
   "source": [
    "import os\n",
    "import numpy as np\n",
    "import scipy.io\n",
    "from PIL import Image\n",
    "import torch\n",
    "\n",
    "if torch.backends.mps.is_available():\n",
    "    print(\"MPS is available on your system!\")\n",
    "else:\n",
    "    print(\"MPS is NOT available on your system.\")"
   ]
  },
  {
   "cell_type": "code",
   "execution_count": 2,
   "id": "e8dd37ffa39c67f7",
   "metadata": {},
   "outputs": [],
   "source": [
    "BASE_OUTPUT_DATA_DIR = 'rodents'\n",
    "YAML_FILE = 'rodent.yaml'"
   ]
  },
  {
   "cell_type": "code",
   "execution_count": 3,
   "id": "12001274b16fb1fd",
   "metadata": {},
   "outputs": [],
   "source": [
    "RODENT_YAML_CONENT = \"\"\"\n",
    "# CAR\n",
    "\n",
    "# download command/URL (optional)\n",
    "download: echo \"no download\"\n",
    "\n",
    "# train and val data as 1) directory: path/images/, 2) file: path/images.txt, or 3) list: [path1/images/, path2/images/]\n",
    "train: ../../data/dataset/train/images\n",
    "val: ../../data/dataset/val/images\n",
    "test:  ../../data/dataset/test/images\n",
    "\n",
    "# number of classes\n",
    "nc: 1\n",
    "\n",
    "# class names\n",
    "names: [\"rodents\"]\n",
    "\"\"\"\n",
    "\n",
    "with open(YAML_FILE, 'wt') as file:\n",
    "    file.write(RODENT_YAML_CONENT) "
   ]
  },
  {
   "cell_type": "markdown",
   "id": "9378810da955513e",
   "metadata": {},
   "source": [
    "# Run the training"
   ]
  },
  {
   "cell_type": "code",
   "execution_count": 4,
   "id": "cb959ca836dbb77d",
   "metadata": {},
   "outputs": [
    {
     "name": "stdout",
     "output_type": "stream",
     "text": [
      "YOLOR 🚀 88eadf0 torch 2.2.0 MPS\n",
      "\n",
      "Namespace(weights='yolov7-tiny.pt', cfg='cfg/training/yolov7-tiny.yaml', data='rodent.yaml', hyp='data/hyp.scratch.custom.yaml', epochs=15, batch_size=2, img_size=[512, 512], rect=False, resume=False, nosave=False, notest=False, noautoanchor=False, evolve=False, bucket='', cache_images=False, image_weights=False, device='mps', multi_scale=False, single_cls=False, adam=False, sync_bn=False, local_rank=-1, workers=8, project='runs/train', entity=None, name='yolov7-car-detector', exist_ok=False, quad=False, linear_lr=False, label_smoothing=0.0, upload_dataset=False, bbox_interval=-1, save_period=-1, artifact_alias='latest', freeze=[0], v5_metric=False, world_size=1, global_rank=-1, save_dir='runs/train/yolov7-car-detector4', total_batch_size=2)\n",
      "\u001B[34m\u001B[1mtensorboard: \u001B[0mStart with 'tensorboard --logdir runs/train', view at http://localhost:6006/\n",
      "\u001B[34m\u001B[1mhyperparameters: \u001B[0mlr0=0.01, lrf=0.1, momentum=0.937, weight_decay=0.0005, warmup_epochs=3.0, warmup_momentum=0.8, warmup_bias_lr=0.1, box=0.05, cls=0.3, cls_pw=1.0, obj=0.7, obj_pw=1.0, iou_t=0.2, anchor_t=4.0, fl_gamma=0.0, hsv_h=0.015, hsv_s=0.7, hsv_v=0.4, degrees=0.0, translate=0.2, scale=0.5, shear=0.0, perspective=0.0, flipud=0.0, fliplr=0.5, mosaic=1.0, mixup=0.0, copy_paste=0.0, paste_in=0.0, loss_ota=1\n",
      "\u001B[34m\u001B[1mwandb: \u001B[0mInstall Weights & Biases for YOLOR logging with 'pip install wandb' (recommended)\n",
      "Traceback (most recent call last):\n",
      "  File \"/Users/richardcernansky/Desktop/work/LandDeepness/YOLO/yolov7/utils/google_utils.py\", line 26, in attempt_download\n",
      "    assets = [x['name'] for x in response['assets']]  # release assets\n",
      "KeyError: 'assets'\n",
      "\n",
      "During handling of the above exception, another exception occurred:\n",
      "\n",
      "Traceback (most recent call last):\n",
      "  File \"/Users/richardcernansky/Desktop/work/LandDeepness/YOLO/yolov7/train.py\", line 616, in <module>\n",
      "    train(hyp, opt, device, tb_writer)\n",
      "  File \"/Users/richardcernansky/Desktop/work/LandDeepness/YOLO/yolov7/train.py\", line 86, in train\n",
      "    attempt_download(weights)  # download if not found locally\n",
      "  File \"/Users/richardcernansky/Desktop/work/LandDeepness/YOLO/yolov7/utils/google_utils.py\", line 31, in attempt_download\n",
      "    tag = subprocess.check_output('git tag', shell=True).decode().split()[-1]\n",
      "IndexError: list index out of range\n"
     ]
    }
   ],
   "source": [
    "!python train.py \\\n",
    "    --workers 8 \\\n",
    "    --device 0 \\\n",
    "    --batch-size 2 \\\n",
    "    --data rodent.yaml \\\n",
    "    --img 512 512 \\\n",
    "    --cfg cfg/training/yolov7-tiny.yaml \\\n",
    "    --weights yolov7-tiny.pt \\\n",
    "    --name yolov7-car-detector \\\n",
    "    --hyp data/hyp.scratch.custom.yaml \\\n",
    "    --epochs 15 "
   ]
  },
  {
   "cell_type": "markdown",
   "id": "2439c63d6d752c1f",
   "metadata": {},
   "source": [
    "# Run the testing "
   ]
  },
  {
   "cell_type": "code",
   "execution_count": 5,
   "id": "22785d09d1af200e",
   "metadata": {},
   "outputs": [
    {
     "ename": "IndentationError",
     "evalue": "unexpected indent (4097609160.py, line 2)",
     "output_type": "error",
     "traceback": [
      "\u001B[0;36m  Cell \u001B[0;32mIn[5], line 2\u001B[0;36m\u001B[0m\n\u001B[0;31m    --data rodent.yaml \\\u001B[0m\n\u001B[0m    ^\u001B[0m\n\u001B[0;31mIndentationError\u001B[0m\u001B[0;31m:\u001B[0m unexpected indent\n"
     ]
    }
   ],
   "source": [
    "!python test.py  \\\n",
    "    --device 0 \\\n",
    "    --batch-size 2 \\ \n",
    "    --data rodent.yaml \\\n",
    "    --img 512  \\\n",
    "    --weights runs/train/yolov7-car-detector/weights/best.pt_xx \\\n",
    "    --name yolov7-rodent-detector"
   ]
  },
  {
   "cell_type": "markdown",
   "id": "678d35f9e62b0884",
   "metadata": {},
   "source": [
    "## Export the model to ONNX"
   ]
  },
  {
   "cell_type": "code",
   "execution_count": null,
   "id": "336c2c00e54e05aa",
   "metadata": {},
   "outputs": [],
   "source": [
    "!python export.py \\\n",
    "    --weights runs/train/yolov7-car-detector/weights/best.pt \\\n",
    "    --grid \\\n",
    "    --simplify \\\n",
    "    --img-size 512 512"
   ]
  },
  {
   "cell_type": "markdown",
   "id": "95a5d9194463ae46",
   "metadata": {},
   "source": [
    "# Add metadata for `Deepness` plugin to run the model smoothly"
   ]
  },
  {
   "cell_type": "code",
   "execution_count": null,
   "id": "1cf4faed73ffd207",
   "metadata": {},
   "outputs": [],
   "source": [
    "import json\n",
    "import onnx\n",
    "\n",
    "model = onnx.load('runs/train/yolov7-car-detector3/weights/best.onnx')\n",
    "\n",
    "class_names = {\n",
    "    0: 'car',\n",
    "}\n",
    "\n",
    "m1 = model.metadata_props.add()\n",
    "m1.key = 'model_type'\n",
    "m1.value = json.dumps('Detector')\n",
    "\n",
    "m2 = model.metadata_props.add()\n",
    "m2.key = 'class_names'\n",
    "m2.value = json.dumps(class_names)\n",
    "\n",
    "m3 = model.metadata_props.add()\n",
    "m3.key = 'resolution'\n",
    "m3.value = json.dumps(10)\n",
    "\n",
    "m4 = model.metadata_props.add()\n",
    "m4.key = 'tiles_overlap'\n",
    "m4.value = json.dumps(10)\n",
    "\n",
    "m4 = model.metadata_props.add()\n",
    "m4.key = 'det_conf'\n",
    "m4.value = json.dumps(0.3)\n",
    "\n",
    "m4 = model.metadata_props.add()\n",
    "m4.key = 'det_iou_thresh'\n",
    "m4.value = json.dumps(0.7)\n",
    "\n",
    "\n",
    "FIANL_MODEL_FILE_PATH = os.path.abspath('runs/train/yolov7-car-detector2/weights/car_aerial_detection_yolo7_ITCVD_deepness.onnx')\n",
    "onnx.save(model, FIANL_MODEL_FILE_PATH)\n",
    "\n",
    "print(f'Your ONNX model with metadata is at: {FIANL_MODEL_FILE_PATH}')"
   ]
  }
 ],
 "metadata": {
  "kernelspec": {
   "display_name": "Python 3 (ipykernel)",
   "language": "python",
   "name": "python3"
  },
  "language_info": {
   "codemirror_mode": {
    "name": "ipython",
    "version": 3
   },
   "file_extension": ".py",
   "mimetype": "text/x-python",
   "name": "python",
   "nbconvert_exporter": "python",
   "pygments_lexer": "ipython3",
   "version": "3.9.20"
  }
 },
 "nbformat": 4,
 "nbformat_minor": 5
}
